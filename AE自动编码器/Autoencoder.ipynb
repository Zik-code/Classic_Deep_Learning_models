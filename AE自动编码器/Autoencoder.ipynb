{
 "cells": [
  {
   "cell_type": "markdown",
   "id": "b0ae3e4c",
   "metadata": {},
   "source": [
    "### 自己的总结：\n",
    "Autoencoder用于数据表示，\n",
    "\n",
    "对称式的结构，最终输出和输入的结构相同，中间是低维，就可以看做AE模型\n",
    "\n",
    "什么是数据表示？\n",
    "\n",
    "A和B是同一种结构，但B是A的另一种表示，B和A的数据不同\n",
    "\n",
    "通过编码解码所丢失的那部分信息是重构误差\n",
    "\n",
    "放置AE直接把A复制成B，改进编码器：\n",
    "\n",
    "    --降噪自动编码器\n",
    "    --变分自动编码器\n",
    "\n",
    "AE应用:\n",
    "    --图像压缩（encoder）复原(decoder)\n",
    "    --图像去噪\n",
    "\n",
    "\n",
    "\n",
    "\n"
   ]
  }
 ],
 "metadata": {
  "language_info": {
   "name": "python"
  }
 },
 "nbformat": 4,
 "nbformat_minor": 5
}
